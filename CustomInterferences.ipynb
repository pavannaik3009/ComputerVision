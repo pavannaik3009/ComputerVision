{
 "cells": [
  {
   "cell_type": "code",
   "execution_count": 1,
   "metadata": {},
   "outputs": [],
   "source": [
    "import numpy as np\n",
    "import cv2"
   ]
  },
  {
   "cell_type": "code",
   "execution_count": 2,
   "metadata": {},
   "outputs": [
    {
     "name": "stdout",
     "output_type": "stream",
     "text": [
      "pressed 346 256\n",
      "pressed 297 232\n",
      "pressed 285 191\n",
      "pressed 311 191\n",
      "pressed 295 220\n",
      "pressed 301 214\n",
      "pressed 272 314\n",
      "pressed 272 314\n",
      "pressed 294 188\n",
      "pressed 329 233\n",
      "pressed 294 205\n"
     ]
    }
   ],
   "source": [
    "cap = cv2.VideoCapture(0)\n",
    "color = (0,255,0)\n",
    "line_width = 3\n",
    "radius = 100\n",
    "point = (0,0)\n",
    "\n",
    "def click(event, x, y, flags, param):\n",
    "    global point, pressed\n",
    "    if event == cv2.EVENT_LBUTTONDOWN:\n",
    "        print(\"pressed\", x, y)\n",
    "        point = (x, y)\n",
    "        \n",
    "cv2.namedWindow(\"frame\")\n",
    "cv2.setMouseCallback(\"frame\", click)\n",
    "\n",
    "while(True):\n",
    "    ret, frame = cap.read()\n",
    "    \n",
    "    frame = cv2.resize(frame, (0,0), fx=0.5, fy=0.5)\n",
    "    cv2.circle(frame, point, radius, color, line_width)\n",
    "    cv2.imshow(\"frame\", frame)\n",
    "    ch = cv2.waitKey(1)\n",
    "    if ch & 0xFF == ord('q'):\n",
    "        break\n",
    "cap.release()\n",
    "cv2.destroyAllWindows()"
   ]
  },
  {
   "cell_type": "code",
   "execution_count": null,
   "metadata": {},
   "outputs": [],
   "source": []
  }
 ],
 "metadata": {
  "kernelspec": {
   "display_name": "Python 3",
   "language": "python",
   "name": "python3"
  },
  "language_info": {
   "codemirror_mode": {
    "name": "ipython",
    "version": 3
   },
   "file_extension": ".py",
   "mimetype": "text/x-python",
   "name": "python",
   "nbconvert_exporter": "python",
   "pygments_lexer": "ipython3",
   "version": "3.6.8"
  }
 },
 "nbformat": 4,
 "nbformat_minor": 2
}
