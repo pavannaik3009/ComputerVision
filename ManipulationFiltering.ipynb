{
 "cells": [
  {
   "cell_type": "code",
   "execution_count": 2,
   "metadata": {},
   "outputs": [],
   "source": [
    "import numpy as np\n",
    "import cv2"
   ]
  },
  {
   "cell_type": "code",
   "execution_count": 3,
   "metadata": {},
   "outputs": [],
   "source": [
    "color = cv2.imread(\"butterfly.jpg\",1)"
   ]
  },
  {
   "cell_type": "code",
   "execution_count": 4,
   "metadata": {},
   "outputs": [
    {
     "name": "stdout",
     "output_type": "stream",
     "text": [
      "(356, 493, 3)\n"
     ]
    }
   ],
   "source": [
    "cv2.imshow(\"Image\",color)\n",
    "cv2.moveWindow(\"Image\",0,0)\n",
    "print(color.shape)\n",
    "height,width,channels = color.shape\n",
    "\n",
    "b,g,r = cv2.split(color)\n",
    "rgb_split = np.empty([height,width*3,3],'uint8')\n",
    "rgb_split[:,0:width] = cv2.merge([b,b,b])\n",
    "rgb_split[:,width:width*2] = cv2.merge([g,g,g])\n",
    "rgb_split[:,width*2:width*3] = cv2.merge([r,r,r])\n",
    "cv2.imshow(\"Channels\",rgb_split)\n",
    "cv2.moveWindow(\"Channels\",0,height)\n",
    "\n",
    "\n",
    "cv2.waitKey(0)\n",
    "cv2.destroyAllWindows()"
   ]
  },
  {
   "cell_type": "code",
   "execution_count": 5,
   "metadata": {},
   "outputs": [],
   "source": [
    "hsv = cv2.cvtColor(color,cv2.COLOR_BGR2HSV)\n",
    "h,s,v = cv2.split(hsv)\n",
    "hsv_split = np.concatenate((h,s,v),axis=1)\n",
    "cv2.imshow(\"split HSV\", hsv_split)\n",
    "cv2.waitKey(0)\n",
    "cv2.destroyAllWindows()"
   ]
  },
  {
   "cell_type": "code",
   "execution_count": 6,
   "metadata": {},
   "outputs": [
    {
     "data": {
      "text/plain": [
       "True"
      ]
     },
     "execution_count": 6,
     "metadata": {},
     "output_type": "execute_result"
    }
   ],
   "source": [
    "gray = cv2.cvtColor(color, cv2.COLOR_RGB2GRAY)\n",
    "cv2.imwrite(\"gray.jpg\",gray)"
   ]
  },
  {
   "cell_type": "code",
   "execution_count": 7,
   "metadata": {},
   "outputs": [
    {
     "data": {
      "text/plain": [
       "True"
      ]
     },
     "execution_count": 7,
     "metadata": {},
     "output_type": "execute_result"
    }
   ],
   "source": [
    "b = color[:,:,0]\n",
    "g = color[:,:,1]\n",
    "r = color[:,:,2]\n",
    "rgba = cv2.merge((b,g,r,g))\n",
    "cv2.imwrite(\"rgba.png\", rgba)"
   ]
  },
  {
   "cell_type": "code",
   "execution_count": null,
   "metadata": {},
   "outputs": [],
   "source": []
  }
 ],
 "metadata": {
  "kernelspec": {
   "display_name": "Python 3",
   "language": "python",
   "name": "python3"
  },
  "language_info": {
   "codemirror_mode": {
    "name": "ipython",
    "version": 3
   },
   "file_extension": ".py",
   "mimetype": "text/x-python",
   "name": "python",
   "nbconvert_exporter": "python",
   "pygments_lexer": "ipython3",
   "version": "3.6.8"
  }
 },
 "nbformat": 4,
 "nbformat_minor": 2
}
