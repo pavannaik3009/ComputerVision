{
 "cells": [
  {
   "cell_type": "code",
   "execution_count": 3,
   "metadata": {},
   "outputs": [],
   "source": [
    "import numpy as np\n",
    "import cv2"
   ]
  },
  {
   "cell_type": "code",
   "execution_count": 4,
   "metadata": {},
   "outputs": [],
   "source": [
    "bw = cv2.imread('detect_blob.png',0)"
   ]
  },
  {
   "cell_type": "code",
   "execution_count": null,
   "metadata": {},
   "outputs": [],
   "source": [
    "height, width = bw.shape[0:2]\n",
    "cv2.imshow(\"Original Image\", bw)\n",
    "binary = np.zeros([height, width, 1], 'uint8')\n",
    "\n",
    "threshold = 85\n",
    "for row in range(0, height):\n",
    "    for col in range(0,width):\n",
    "        if bw[row][col]>threshold:\n",
    "            binary[row][col]=255\n",
    "\n",
    "cv2.imshow(\"Slow Binary\", binary)\n",
    "\n",
    "ret, threshold = cv2.threshold(bw, threshold, 255, cv2.THRESH_BINARY)\n",
    "cv2.imshow(\"CV Threshold\", threshold)\n",
    "\n",
    "cv2.waitKey(0)\n",
    "cv2.destroyAllWindows()"
   ]
  },
  {
   "cell_type": "code",
   "execution_count": null,
   "metadata": {},
   "outputs": [],
   "source": []
  }
 ],
 "metadata": {
  "kernelspec": {
   "display_name": "Python 3",
   "language": "python",
   "name": "python3"
  },
  "language_info": {
   "codemirror_mode": {
    "name": "ipython",
    "version": 3
   },
   "file_extension": ".py",
   "mimetype": "text/x-python",
   "name": "python",
   "nbconvert_exporter": "python",
   "pygments_lexer": "ipython3",
   "version": "3.6.8"
  }
 },
 "nbformat": 4,
 "nbformat_minor": 2
}
